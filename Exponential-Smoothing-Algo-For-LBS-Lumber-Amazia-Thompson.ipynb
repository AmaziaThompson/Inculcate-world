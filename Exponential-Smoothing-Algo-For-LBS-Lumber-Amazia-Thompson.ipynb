{
 "cells": [
  {
   "cell_type": "code",
   "execution_count": 1,
   "id": "da687297",
   "metadata": {},
   "outputs": [],
   "source": [
    "import numpy as np\n",
    "import pandas as pd\n",
    "import matplotlib.pyplot as plt\n",
    "%matplotlib inline"
   ]
  },
  {
   "cell_type": "code",
   "execution_count": 219,
   "id": "2ecefb12",
   "metadata": {},
   "outputs": [],
   "source": [
    "LBS=pd.read_csv('HistoricalData_Lumber.csv', index_col='Date', parse_dates=True).dropna().sort_index()\n"
   ]
  },
  {
   "cell_type": "code",
   "execution_count": 220,
   "id": "2482e8a5",
   "metadata": {},
   "outputs": [
    {
     "data": {
      "text/plain": [
       "DatetimeIndex(['2012-04-17', '2012-04-18', '2012-04-19', '2012-04-20',\n",
       "               '2012-04-23', '2012-04-24', '2012-04-25', '2012-04-26',\n",
       "               '2012-04-27', '2012-04-30',\n",
       "               ...\n",
       "               '2022-04-01', '2022-04-04', '2022-04-05', '2022-04-06',\n",
       "               '2022-04-07', '2022-04-08', '2022-04-11', '2022-04-12',\n",
       "               '2022-04-13', '2022-04-14'],\n",
       "              dtype='datetime64[ns]', name='Date', length=2472, freq=None)"
      ]
     },
     "execution_count": 220,
     "metadata": {},
     "output_type": "execute_result"
    }
   ],
   "source": [
    "LBS.index"
   ]
  },
  {
   "cell_type": "code",
   "execution_count": 221,
   "id": "dc23eec6",
   "metadata": {},
   "outputs": [
    {
     "data": {
      "text/html": [
       "<div>\n",
       "<style scoped>\n",
       "    .dataframe tbody tr th:only-of-type {\n",
       "        vertical-align: middle;\n",
       "    }\n",
       "\n",
       "    .dataframe tbody tr th {\n",
       "        vertical-align: top;\n",
       "    }\n",
       "\n",
       "    .dataframe thead th {\n",
       "        text-align: right;\n",
       "    }\n",
       "</style>\n",
       "<table border=\"1\" class=\"dataframe\">\n",
       "  <thead>\n",
       "    <tr style=\"text-align: right;\">\n",
       "      <th></th>\n",
       "      <th>Close/Last</th>\n",
       "      <th>Volume</th>\n",
       "      <th>Open</th>\n",
       "      <th>High</th>\n",
       "      <th>Low</th>\n",
       "    </tr>\n",
       "    <tr>\n",
       "      <th>Date</th>\n",
       "      <th></th>\n",
       "      <th></th>\n",
       "      <th></th>\n",
       "      <th></th>\n",
       "      <th></th>\n",
       "    </tr>\n",
       "  </thead>\n",
       "  <tbody>\n",
       "    <tr>\n",
       "      <th>2012-04-17</th>\n",
       "      <td>266.5</td>\n",
       "      <td>34.0</td>\n",
       "      <td>267.0</td>\n",
       "      <td>268.4</td>\n",
       "      <td>266.5</td>\n",
       "    </tr>\n",
       "    <tr>\n",
       "      <th>2012-04-18</th>\n",
       "      <td>266.5</td>\n",
       "      <td>719.0</td>\n",
       "      <td>267.0</td>\n",
       "      <td>273.8</td>\n",
       "      <td>265.1</td>\n",
       "    </tr>\n",
       "    <tr>\n",
       "      <th>2012-04-19</th>\n",
       "      <td>271.5</td>\n",
       "      <td>1.0</td>\n",
       "      <td>271.5</td>\n",
       "      <td>271.5</td>\n",
       "      <td>271.5</td>\n",
       "    </tr>\n",
       "    <tr>\n",
       "      <th>2012-04-20</th>\n",
       "      <td>275.7</td>\n",
       "      <td>839.0</td>\n",
       "      <td>272.8</td>\n",
       "      <td>276.7</td>\n",
       "      <td>272.4</td>\n",
       "    </tr>\n",
       "    <tr>\n",
       "      <th>2012-04-23</th>\n",
       "      <td>274.0</td>\n",
       "      <td>2.0</td>\n",
       "      <td>274.5</td>\n",
       "      <td>274.5</td>\n",
       "      <td>274.0</td>\n",
       "    </tr>\n",
       "  </tbody>\n",
       "</table>\n",
       "</div>"
      ],
      "text/plain": [
       "            Close/Last  Volume   Open   High    Low\n",
       "Date                                               \n",
       "2012-04-17       266.5    34.0  267.0  268.4  266.5\n",
       "2012-04-18       266.5   719.0  267.0  273.8  265.1\n",
       "2012-04-19       271.5     1.0  271.5  271.5  271.5\n",
       "2012-04-20       275.7   839.0  272.8  276.7  272.4\n",
       "2012-04-23       274.0     2.0  274.5  274.5  274.0"
      ]
     },
     "execution_count": 221,
     "metadata": {},
     "output_type": "execute_result"
    }
   ],
   "source": [
    "LBS.head()"
   ]
  },
  {
   "cell_type": "code",
   "execution_count": 222,
   "id": "c738f317",
   "metadata": {},
   "outputs": [
    {
     "data": {
      "text/html": [
       "<div>\n",
       "<style scoped>\n",
       "    .dataframe tbody tr th:only-of-type {\n",
       "        vertical-align: middle;\n",
       "    }\n",
       "\n",
       "    .dataframe tbody tr th {\n",
       "        vertical-align: top;\n",
       "    }\n",
       "\n",
       "    .dataframe thead th {\n",
       "        text-align: right;\n",
       "    }\n",
       "</style>\n",
       "<table border=\"1\" class=\"dataframe\">\n",
       "  <thead>\n",
       "    <tr style=\"text-align: right;\">\n",
       "      <th></th>\n",
       "      <th>Close/Last</th>\n",
       "      <th>Volume</th>\n",
       "      <th>Open</th>\n",
       "      <th>High</th>\n",
       "      <th>Low</th>\n",
       "    </tr>\n",
       "    <tr>\n",
       "      <th>Date</th>\n",
       "      <th></th>\n",
       "      <th></th>\n",
       "      <th></th>\n",
       "      <th></th>\n",
       "      <th></th>\n",
       "    </tr>\n",
       "  </thead>\n",
       "  <tbody>\n",
       "    <tr>\n",
       "      <th>2022-04-08</th>\n",
       "      <td>949.9</td>\n",
       "      <td>242.0</td>\n",
       "      <td>891.0</td>\n",
       "      <td>949.9</td>\n",
       "      <td>890.0</td>\n",
       "    </tr>\n",
       "    <tr>\n",
       "      <th>2022-04-11</th>\n",
       "      <td>886.3</td>\n",
       "      <td>229.0</td>\n",
       "      <td>971.1</td>\n",
       "      <td>992.6</td>\n",
       "      <td>870.0</td>\n",
       "    </tr>\n",
       "    <tr>\n",
       "      <th>2022-04-12</th>\n",
       "      <td>874.2</td>\n",
       "      <td>244.0</td>\n",
       "      <td>862.0</td>\n",
       "      <td>890.0</td>\n",
       "      <td>829.3</td>\n",
       "    </tr>\n",
       "    <tr>\n",
       "      <th>2022-04-13</th>\n",
       "      <td>883.7</td>\n",
       "      <td>177.0</td>\n",
       "      <td>876.6</td>\n",
       "      <td>902.5</td>\n",
       "      <td>844.8</td>\n",
       "    </tr>\n",
       "    <tr>\n",
       "      <th>2022-04-14</th>\n",
       "      <td>889.0</td>\n",
       "      <td>160.0</td>\n",
       "      <td>880.3</td>\n",
       "      <td>904.8</td>\n",
       "      <td>862.1</td>\n",
       "    </tr>\n",
       "  </tbody>\n",
       "</table>\n",
       "</div>"
      ],
      "text/plain": [
       "            Close/Last  Volume   Open   High    Low\n",
       "Date                                               \n",
       "2022-04-08       949.9   242.0  891.0  949.9  890.0\n",
       "2022-04-11       886.3   229.0  971.1  992.6  870.0\n",
       "2022-04-12       874.2   244.0  862.0  890.0  829.3\n",
       "2022-04-13       883.7   177.0  876.6  902.5  844.8\n",
       "2022-04-14       889.0   160.0  880.3  904.8  862.1"
      ]
     },
     "execution_count": 222,
     "metadata": {},
     "output_type": "execute_result"
    }
   ],
   "source": [
    "LBS.tail()"
   ]
  },
  {
   "cell_type": "code",
   "execution_count": 223,
   "id": "9c9c5b77",
   "metadata": {},
   "outputs": [
    {
     "data": {
      "text/html": [
       "<div>\n",
       "<style scoped>\n",
       "    .dataframe tbody tr th:only-of-type {\n",
       "        vertical-align: middle;\n",
       "    }\n",
       "\n",
       "    .dataframe tbody tr th {\n",
       "        vertical-align: top;\n",
       "    }\n",
       "\n",
       "    .dataframe thead th {\n",
       "        text-align: right;\n",
       "    }\n",
       "</style>\n",
       "<table border=\"1\" class=\"dataframe\">\n",
       "  <thead>\n",
       "    <tr style=\"text-align: right;\">\n",
       "      <th></th>\n",
       "      <th>Close/Last</th>\n",
       "      <th>Volume</th>\n",
       "      <th>Open</th>\n",
       "      <th>High</th>\n",
       "      <th>Low</th>\n",
       "    </tr>\n",
       "    <tr>\n",
       "      <th>Date</th>\n",
       "      <th></th>\n",
       "      <th></th>\n",
       "      <th></th>\n",
       "      <th></th>\n",
       "      <th></th>\n",
       "    </tr>\n",
       "  </thead>\n",
       "  <tbody>\n",
       "    <tr>\n",
       "      <th>2012-04-17</th>\n",
       "      <td>266.5</td>\n",
       "      <td>34.0</td>\n",
       "      <td>267.0</td>\n",
       "      <td>268.4</td>\n",
       "      <td>266.5</td>\n",
       "    </tr>\n",
       "    <tr>\n",
       "      <th>2012-04-18</th>\n",
       "      <td>266.5</td>\n",
       "      <td>719.0</td>\n",
       "      <td>267.0</td>\n",
       "      <td>273.8</td>\n",
       "      <td>265.1</td>\n",
       "    </tr>\n",
       "    <tr>\n",
       "      <th>2012-04-19</th>\n",
       "      <td>271.5</td>\n",
       "      <td>1.0</td>\n",
       "      <td>271.5</td>\n",
       "      <td>271.5</td>\n",
       "      <td>271.5</td>\n",
       "    </tr>\n",
       "    <tr>\n",
       "      <th>2012-04-20</th>\n",
       "      <td>275.7</td>\n",
       "      <td>839.0</td>\n",
       "      <td>272.8</td>\n",
       "      <td>276.7</td>\n",
       "      <td>272.4</td>\n",
       "    </tr>\n",
       "    <tr>\n",
       "      <th>2012-04-23</th>\n",
       "      <td>274.0</td>\n",
       "      <td>2.0</td>\n",
       "      <td>274.5</td>\n",
       "      <td>274.5</td>\n",
       "      <td>274.0</td>\n",
       "    </tr>\n",
       "    <tr>\n",
       "      <th>...</th>\n",
       "      <td>...</td>\n",
       "      <td>...</td>\n",
       "      <td>...</td>\n",
       "      <td>...</td>\n",
       "      <td>...</td>\n",
       "    </tr>\n",
       "    <tr>\n",
       "      <th>2022-04-08</th>\n",
       "      <td>949.9</td>\n",
       "      <td>242.0</td>\n",
       "      <td>891.0</td>\n",
       "      <td>949.9</td>\n",
       "      <td>890.0</td>\n",
       "    </tr>\n",
       "    <tr>\n",
       "      <th>2022-04-11</th>\n",
       "      <td>886.3</td>\n",
       "      <td>229.0</td>\n",
       "      <td>971.1</td>\n",
       "      <td>992.6</td>\n",
       "      <td>870.0</td>\n",
       "    </tr>\n",
       "    <tr>\n",
       "      <th>2022-04-12</th>\n",
       "      <td>874.2</td>\n",
       "      <td>244.0</td>\n",
       "      <td>862.0</td>\n",
       "      <td>890.0</td>\n",
       "      <td>829.3</td>\n",
       "    </tr>\n",
       "    <tr>\n",
       "      <th>2022-04-13</th>\n",
       "      <td>883.7</td>\n",
       "      <td>177.0</td>\n",
       "      <td>876.6</td>\n",
       "      <td>902.5</td>\n",
       "      <td>844.8</td>\n",
       "    </tr>\n",
       "    <tr>\n",
       "      <th>2022-04-14</th>\n",
       "      <td>889.0</td>\n",
       "      <td>160.0</td>\n",
       "      <td>880.3</td>\n",
       "      <td>904.8</td>\n",
       "      <td>862.1</td>\n",
       "    </tr>\n",
       "  </tbody>\n",
       "</table>\n",
       "<p>2472 rows × 5 columns</p>\n",
       "</div>"
      ],
      "text/plain": [
       "            Close/Last  Volume   Open   High    Low\n",
       "Date                                               \n",
       "2012-04-17       266.5    34.0  267.0  268.4  266.5\n",
       "2012-04-18       266.5   719.0  267.0  273.8  265.1\n",
       "2012-04-19       271.5     1.0  271.5  271.5  271.5\n",
       "2012-04-20       275.7   839.0  272.8  276.7  272.4\n",
       "2012-04-23       274.0     2.0  274.5  274.5  274.0\n",
       "...                ...     ...    ...    ...    ...\n",
       "2022-04-08       949.9   242.0  891.0  949.9  890.0\n",
       "2022-04-11       886.3   229.0  971.1  992.6  870.0\n",
       "2022-04-12       874.2   244.0  862.0  890.0  829.3\n",
       "2022-04-13       883.7   177.0  876.6  902.5  844.8\n",
       "2022-04-14       889.0   160.0  880.3  904.8  862.1\n",
       "\n",
       "[2472 rows x 5 columns]"
      ]
     },
     "execution_count": 223,
     "metadata": {},
     "output_type": "execute_result"
    }
   ],
   "source": [
    "LBS\n"
   ]
  },
  {
   "cell_type": "code",
   "execution_count": 224,
   "id": "21ce26fd",
   "metadata": {},
   "outputs": [
    {
     "data": {
      "text/plain": [
       "<bound method DataFrame.info of             Close/Last  Volume   Open   High    Low\n",
       "Date                                               \n",
       "2012-04-17       266.5    34.0  267.0  268.4  266.5\n",
       "2012-04-18       266.5   719.0  267.0  273.8  265.1\n",
       "2012-04-19       271.5     1.0  271.5  271.5  271.5\n",
       "2012-04-20       275.7   839.0  272.8  276.7  272.4\n",
       "2012-04-23       274.0     2.0  274.5  274.5  274.0\n",
       "...                ...     ...    ...    ...    ...\n",
       "2022-04-08       949.9   242.0  891.0  949.9  890.0\n",
       "2022-04-11       886.3   229.0  971.1  992.6  870.0\n",
       "2022-04-12       874.2   244.0  862.0  890.0  829.3\n",
       "2022-04-13       883.7   177.0  876.6  902.5  844.8\n",
       "2022-04-14       889.0   160.0  880.3  904.8  862.1\n",
       "\n",
       "[2472 rows x 5 columns]>"
      ]
     },
     "execution_count": 224,
     "metadata": {},
     "output_type": "execute_result"
    }
   ],
   "source": [
    "LBS.info"
   ]
  },
  {
   "cell_type": "code",
   "execution_count": 225,
   "id": "fbe83e5e",
   "metadata": {},
   "outputs": [
    {
     "data": {
      "text/plain": [
       "<function pandas.tseries.frequencies.infer_freq(index, warn: 'bool' = True) -> 'str | None'>"
      ]
     },
     "execution_count": 225,
     "metadata": {},
     "output_type": "execute_result"
    }
   ],
   "source": [
    "#LBS.index.freq = 'MS'\n",
    "pd.infer_freq\n",
    "#pd.tseries.frequencies.to_offset\n",
    "#dataset = dataset.asfreq(\"MS\")\n",
    "#dataset.index"
   ]
  },
  {
   "cell_type": "code",
   "execution_count": 226,
   "id": "fea2b400",
   "metadata": {},
   "outputs": [
    {
     "name": "stdout",
     "output_type": "stream",
     "text": [
      "<class 'pandas.core.frame.DataFrame'>\n",
      "DatetimeIndex: 2472 entries, 2012-04-17 to 2022-04-14\n",
      "Data columns (total 5 columns):\n",
      " #   Column      Non-Null Count  Dtype  \n",
      "---  ------      --------------  -----  \n",
      " 0   Close/Last  2472 non-null   float64\n",
      " 1   Volume      2472 non-null   float64\n",
      " 2   Open        2472 non-null   float64\n",
      " 3   High        2472 non-null   float64\n",
      " 4   Low         2472 non-null   float64\n",
      "dtypes: float64(5)\n",
      "memory usage: 115.9 KB\n"
     ]
    }
   ],
   "source": [
    "LBS.info()"
   ]
  },
  {
   "cell_type": "code",
   "execution_count": 227,
   "id": "8d5b7865",
   "metadata": {},
   "outputs": [
    {
     "data": {
      "text/plain": [
       "<AxesSubplot:xlabel='Date'>"
      ]
     },
     "execution_count": 227,
     "metadata": {},
     "output_type": "execute_result"
    },
    {
     "data": {
      "image/png": "[encoded data removed]",
      "text/plain": [
       "<Figure size 864x576 with 1 Axes>"
      ]
     },
     "metadata": {
      "needs_background": "light"
     },
     "output_type": "display_data"
    }
   ],
   "source": [
    "LBS['Close/Last'].plot(figsize=(12,8))"
   ]
  },
  {
   "cell_type": "code",
   "execution_count": 228,
   "id": "3fd4380d",
   "metadata": {},
   "outputs": [
    {
     "data": {
      "text/html": [
       "<div>\n",
       "<style scoped>\n",
       "    .dataframe tbody tr th:only-of-type {\n",
       "        vertical-align: middle;\n",
       "    }\n",
       "\n",
       "    .dataframe tbody tr th {\n",
       "        vertical-align: top;\n",
       "    }\n",
       "\n",
       "    .dataframe thead th {\n",
       "        text-align: right;\n",
       "    }\n",
       "</style>\n",
       "<table border=\"1\" class=\"dataframe\">\n",
       "  <thead>\n",
       "    <tr style=\"text-align: right;\">\n",
       "      <th></th>\n",
       "      <th>Close/Last</th>\n",
       "      <th>Volume</th>\n",
       "      <th>Open</th>\n",
       "      <th>High</th>\n",
       "      <th>Low</th>\n",
       "    </tr>\n",
       "    <tr>\n",
       "      <th>Date</th>\n",
       "      <th></th>\n",
       "      <th></th>\n",
       "      <th></th>\n",
       "      <th></th>\n",
       "      <th></th>\n",
       "    </tr>\n",
       "  </thead>\n",
       "  <tbody>\n",
       "    <tr>\n",
       "      <th>2012-04-17</th>\n",
       "      <td>266.5</td>\n",
       "      <td>34.0</td>\n",
       "      <td>267.0</td>\n",
       "      <td>268.4</td>\n",
       "      <td>266.5</td>\n",
       "    </tr>\n",
       "    <tr>\n",
       "      <th>2012-04-18</th>\n",
       "      <td>266.5</td>\n",
       "      <td>719.0</td>\n",
       "      <td>267.0</td>\n",
       "      <td>273.8</td>\n",
       "      <td>265.1</td>\n",
       "    </tr>\n",
       "    <tr>\n",
       "      <th>2012-04-19</th>\n",
       "      <td>271.5</td>\n",
       "      <td>1.0</td>\n",
       "      <td>271.5</td>\n",
       "      <td>271.5</td>\n",
       "      <td>271.5</td>\n",
       "    </tr>\n",
       "    <tr>\n",
       "      <th>2012-04-20</th>\n",
       "      <td>275.7</td>\n",
       "      <td>839.0</td>\n",
       "      <td>272.8</td>\n",
       "      <td>276.7</td>\n",
       "      <td>272.4</td>\n",
       "    </tr>\n",
       "    <tr>\n",
       "      <th>2012-04-23</th>\n",
       "      <td>274.0</td>\n",
       "      <td>2.0</td>\n",
       "      <td>274.5</td>\n",
       "      <td>274.5</td>\n",
       "      <td>274.0</td>\n",
       "    </tr>\n",
       "    <tr>\n",
       "      <th>...</th>\n",
       "      <td>...</td>\n",
       "      <td>...</td>\n",
       "      <td>...</td>\n",
       "      <td>...</td>\n",
       "      <td>...</td>\n",
       "    </tr>\n",
       "    <tr>\n",
       "      <th>2022-04-08</th>\n",
       "      <td>949.9</td>\n",
       "      <td>242.0</td>\n",
       "      <td>891.0</td>\n",
       "      <td>949.9</td>\n",
       "      <td>890.0</td>\n",
       "    </tr>\n",
       "    <tr>\n",
       "      <th>2022-04-11</th>\n",
       "      <td>886.3</td>\n",
       "      <td>229.0</td>\n",
       "      <td>971.1</td>\n",
       "      <td>992.6</td>\n",
       "      <td>870.0</td>\n",
       "    </tr>\n",
       "    <tr>\n",
       "      <th>2022-04-12</th>\n",
       "      <td>874.2</td>\n",
       "      <td>244.0</td>\n",
       "      <td>862.0</td>\n",
       "      <td>890.0</td>\n",
       "      <td>829.3</td>\n",
       "    </tr>\n",
       "    <tr>\n",
       "      <th>2022-04-13</th>\n",
       "      <td>883.7</td>\n",
       "      <td>177.0</td>\n",
       "      <td>876.6</td>\n",
       "      <td>902.5</td>\n",
       "      <td>844.8</td>\n",
       "    </tr>\n",
       "    <tr>\n",
       "      <th>2022-04-14</th>\n",
       "      <td>889.0</td>\n",
       "      <td>160.0</td>\n",
       "      <td>880.3</td>\n",
       "      <td>904.8</td>\n",
       "      <td>862.1</td>\n",
       "    </tr>\n",
       "  </tbody>\n",
       "</table>\n",
       "<p>2472 rows × 5 columns</p>\n",
       "</div>"
      ],
      "text/plain": [
       "            Close/Last  Volume   Open   High    Low\n",
       "Date                                               \n",
       "2012-04-17       266.5    34.0  267.0  268.4  266.5\n",
       "2012-04-18       266.5   719.0  267.0  273.8  265.1\n",
       "2012-04-19       271.5     1.0  271.5  271.5  271.5\n",
       "2012-04-20       275.7   839.0  272.8  276.7  272.4\n",
       "2012-04-23       274.0     2.0  274.5  274.5  274.0\n",
       "...                ...     ...    ...    ...    ...\n",
       "2022-04-08       949.9   242.0  891.0  949.9  890.0\n",
       "2022-04-11       886.3   229.0  971.1  992.6  870.0\n",
       "2022-04-12       874.2   244.0  862.0  890.0  829.3\n",
       "2022-04-13       883.7   177.0  876.6  902.5  844.8\n",
       "2022-04-14       889.0   160.0  880.3  904.8  862.1\n",
       "\n",
       "[2472 rows x 5 columns]"
      ]
     },
     "execution_count": 228,
     "metadata": {},
     "output_type": "execute_result"
    }
   ],
   "source": [
    "LBS\n"
   ]
  },
  {
   "cell_type": "code",
   "execution_count": 229,
   "id": "11e896ac",
   "metadata": {},
   "outputs": [],
   "source": [
    "train =LBS['Close/Last'].iloc[:500]\n"
   ]
  },
  {
   "cell_type": "code",
   "execution_count": 230,
   "id": "8cb244df",
   "metadata": {},
   "outputs": [],
   "source": [
    "test = LBS['Close/Last'].iloc[500:]"
   ]
  },
  {
   "cell_type": "code",
   "execution_count": 231,
   "id": "1d28e17c",
   "metadata": {},
   "outputs": [
    {
     "data": {
      "text/plain": [
       "<AxesSubplot:xlabel='Date'>"
      ]
     },
     "execution_count": 231,
     "metadata": {},
     "output_type": "execute_result"
    },
    {
     "data": {
      "image/png": "[encoded data removed]",
      "text/plain": [
       "<Figure size 432x288 with 1 Axes>"
      ]
     },
     "metadata": {
      "needs_background": "light"
     },
     "output_type": "display_data"
    }
   ],
   "source": [
    "test.plot()"
   ]
  },
  {
   "cell_type": "code",
   "execution_count": 232,
   "id": "a6b36dec",
   "metadata": {},
   "outputs": [
    {
     "data": {
      "text/plain": [
       "<AxesSubplot:xlabel='Date'>"
      ]
     },
     "execution_count": 232,
     "metadata": {},
     "output_type": "execute_result"
    },
    {
     "data": {
      "image/png": "[encoded data removed]",
      "text/plain": [
       "<Figure size 432x288 with 1 Axes>"
      ]
     },
     "metadata": {
      "needs_background": "light"
     },
     "output_type": "display_data"
    }
   ],
   "source": [
    "train.plot()\n",
    "test.plot()"
   ]
  },
  {
   "cell_type": "code",
   "execution_count": 233,
   "id": "8f9f5716",
   "metadata": {},
   "outputs": [],
   "source": [
    "from statsmodels.tsa.holtwinters import ExponentialSmoothing"
   ]
  },
  {
   "cell_type": "code",
   "execution_count": 215,
   "id": "72908443",
   "metadata": {},
   "outputs": [
    {
     "name": "stderr",
     "output_type": "stream",
     "text": [
      "C:\\Users\\Amazi\\anaconda3\\lib\\site-packages\\statsmodels\\tsa\\base\\tsa_model.py:581: ValueWarning: A date index has been provided, but it has no associated frequency information and so will be ignored when e.g. forecasting.\n",
      "  warnings.warn('A date index has been provided, but it has no'\n",
      "C:\\Users\\Amazi\\anaconda3\\lib\\site-packages\\statsmodels\\tsa\\holtwinters\\model.py:427: FutureWarning: After 0.13 initialization must be handled at model creation\n",
      "  warnings.warn(\n",
      "C:\\Users\\Amazi\\anaconda3\\lib\\site-packages\\statsmodels\\tsa\\holtwinters\\model.py:80: RuntimeWarning: overflow encountered in matmul\n",
      "  return err.T @ err\n"
     ]
    }
   ],
   "source": [
    "model = ExponentialSmoothing(train, trend='mul',seasonal='mul',seasonal_periods=4).fit()\n"
   ]
  },
  {
   "cell_type": "code",
   "execution_count": 238,
   "id": "c807ea08",
   "metadata": {},
   "outputs": [
    {
     "name": "stderr",
     "output_type": "stream",
     "text": [
      "C:\\Users\\Amazi\\anaconda3\\lib\\site-packages\\statsmodels\\tsa\\base\\tsa_model.py:376: ValueWarning: No supported index is available. Prediction results will be given with an integer index beginning at `start`.\n",
      "  warnings.warn('No supported index is available.'\n"
     ]
    },
    {
     "data": {
      "text/plain": [
       "[<matplotlib.lines.Line2D at 0x254dcfebd30>]"
      ]
     },
     "execution_count": 238,
     "metadata": {},
     "output_type": "execute_result"
    },
    {
     "data": {
      "image/png": "[encoded data removed]",
      "text/plain": [
       "<Figure size 432x288 with 1 Axes>"
      ]
     },
     "metadata": {
      "needs_background": "light"
     },
     "output_type": "display_data"
    }
   ],
   "source": [
    "test.plot()\n",
    "##plt.plot(test.Close/Last, color='blue')\n",
    "plt.plot(model.forecast(test.shape[0]), color= 'Orange' )\n",
    "\n",
    "# test.plot()\n",
    "# model.forecast(14).plot()"
   ]
  },
  {
   "cell_type": "code",
   "execution_count": 22,
   "id": "54b83f7e",
   "metadata": {},
   "outputs": [],
   "source": [
    "import numpy as np\n",
    "import pandas as pd\n",
    "import matplotlib.pyplot as plt\n",
    "%matplotlib inline\n",
    "from statsmodels.tsa.holtwinters import ExponentialSmoothing"
   ]
  },
  {
   "cell_type": "code",
   "execution_count": 36,
   "id": "98da1c80",
   "metadata": {},
   "outputs": [
    {
     "data": {
      "text/html": [
       "<div>\n",
       "<style scoped>\n",
       "    .dataframe tbody tr th:only-of-type {\n",
       "        vertical-align: middle;\n",
       "    }\n",
       "\n",
       "    .dataframe tbody tr th {\n",
       "        vertical-align: top;\n",
       "    }\n",
       "\n",
       "    .dataframe thead th {\n",
       "        text-align: right;\n",
       "    }\n",
       "</style>\n",
       "<table border=\"1\" class=\"dataframe\">\n",
       "  <thead>\n",
       "    <tr style=\"text-align: right;\">\n",
       "      <th></th>\n",
       "      <th>Close/Last</th>\n",
       "      <th>Volume</th>\n",
       "      <th>Open</th>\n",
       "      <th>High</th>\n",
       "      <th>Low</th>\n",
       "    </tr>\n",
       "    <tr>\n",
       "      <th>Date</th>\n",
       "      <th></th>\n",
       "      <th></th>\n",
       "      <th></th>\n",
       "      <th></th>\n",
       "      <th></th>\n",
       "    </tr>\n",
       "  </thead>\n",
       "  <tbody>\n",
       "    <tr>\n",
       "      <th>2012-04-17</th>\n",
       "      <td>266.5</td>\n",
       "      <td>34.0</td>\n",
       "      <td>267.0</td>\n",
       "      <td>268.4</td>\n",
       "      <td>266.5</td>\n",
       "    </tr>\n",
       "    <tr>\n",
       "      <th>2012-04-18</th>\n",
       "      <td>266.5</td>\n",
       "      <td>719.0</td>\n",
       "      <td>267.0</td>\n",
       "      <td>273.8</td>\n",
       "      <td>265.1</td>\n",
       "    </tr>\n",
       "    <tr>\n",
       "      <th>2012-04-19</th>\n",
       "      <td>271.5</td>\n",
       "      <td>1.0</td>\n",
       "      <td>271.5</td>\n",
       "      <td>271.5</td>\n",
       "      <td>271.5</td>\n",
       "    </tr>\n",
       "    <tr>\n",
       "      <th>2012-04-20</th>\n",
       "      <td>275.7</td>\n",
       "      <td>839.0</td>\n",
       "      <td>272.8</td>\n",
       "      <td>276.7</td>\n",
       "      <td>272.4</td>\n",
       "    </tr>\n",
       "    <tr>\n",
       "      <th>2012-04-23</th>\n",
       "      <td>274.0</td>\n",
       "      <td>2.0</td>\n",
       "      <td>274.5</td>\n",
       "      <td>274.5</td>\n",
       "      <td>274.0</td>\n",
       "    </tr>\n",
       "  </tbody>\n",
       "</table>\n",
       "</div>"
      ],
      "text/plain": [
       "            Close/Last  Volume   Open   High    Low\n",
       "Date                                               \n",
       "2012-04-17       266.5    34.0  267.0  268.4  266.5\n",
       "2012-04-18       266.5   719.0  267.0  273.8  265.1\n",
       "2012-04-19       271.5     1.0  271.5  271.5  271.5\n",
       "2012-04-20       275.7   839.0  272.8  276.7  272.4\n",
       "2012-04-23       274.0     2.0  274.5  274.5  274.0"
      ]
     },
     "execution_count": 36,
     "metadata": {},
     "output_type": "execute_result"
    }
   ],
   "source": [
    "LBS=pd.read_csv('HistoricalData_Lumber.csv', index_col= \"Date\", parse_dates=True).dropna().sort_index()\n",
    "LBS.head()"
   ]
  },
  {
   "cell_type": "code",
   "execution_count": 37,
   "id": "08e159e9",
   "metadata": {},
   "outputs": [
    {
     "data": {
      "text/plain": [
       "DatetimeIndex(['2012-04-17', '2012-04-18', '2012-04-19', '2012-04-20',\n",
       "               '2012-04-21', '2012-04-22', '2012-04-23', '2012-04-24',\n",
       "               '2012-04-25', '2012-04-26',\n",
       "               ...\n",
       "               '2022-04-05', '2022-04-06', '2022-04-07', '2022-04-08',\n",
       "               '2022-04-09', '2022-04-10', '2022-04-11', '2022-04-12',\n",
       "               '2022-04-13', '2022-04-14'],\n",
       "              dtype='datetime64[ns]', name='Date', length=3650, freq='D')"
      ]
     },
     "execution_count": 37,
     "metadata": {},
     "output_type": "execute_result"
    }
   ],
   "source": [
    "#index\n",
    "LBS = LBS.asfreq(\"D\")\n",
    "LBS.index"
   ]
  },
  {
   "cell_type": "code",
   "execution_count": 38,
   "id": "120e7151",
   "metadata": {},
   "outputs": [
    {
     "name": "stderr",
     "output_type": "stream",
     "text": [
      "C:\\Users\\Amazi\\anaconda3\\lib\\site-packages\\statsmodels\\tsa\\holtwinters\\model.py:427: FutureWarning: After 0.13 initialization must be handled at model creation\n",
      "  warnings.warn(\n",
      "C:\\Users\\Amazi\\anaconda3\\lib\\site-packages\\statsmodels\\tsa\\holtwinters\\model.py:920: ConvergenceWarning: Optimization failed to converge. Check mle_retvals.\n",
      "  warnings.warn(\n"
     ]
    }
   ],
   "source": [
    "model = ExponentialSmoothing(endog= LBS.Open).fit()"
   ]
  },
  {
   "cell_type": "code",
   "execution_count": 39,
   "id": "7e04fb90",
   "metadata": {},
   "outputs": [
    {
     "name": "stderr",
     "output_type": "stream",
     "text": [
      "C:\\Users\\Amazi\\anaconda3\\lib\\site-packages\\statsmodels\\tsa\\base\\tsa_model.py:132: FutureWarning: The 'freq' argument in Timestamp is deprecated and will be removed in a future version.\n",
      "  date_key = Timestamp(key, freq=base_index.freq)\n"
     ]
    }
   ],
   "source": [
    "predictions = model.forecast(steps= 31)"
   ]
  },
  {
   "cell_type": "code",
   "execution_count": 40,
   "id": "da772218",
   "metadata": {},
   "outputs": [
    {
     "data": {
      "text/plain": [
       "<pandas.plotting._core.PlotAccessor object at 0x00000254D4AFC160>"
      ]
     },
     "execution_count": 40,
     "metadata": {},
     "output_type": "execute_result"
    },
    {
     "data": {
      "image/png": "[encoded data removed]",
      "text/plain": [
       "<Figure size 648x432 with 1 Axes>"
      ]
     },
     "metadata": {
      "needs_background": "light"
     },
     "output_type": "display_data"
    }
   ],
   "source": [
    "LBS['Open']['2020-01-01':].plot(figsize =(9,6))\n",
    "predictions.plot"
   ]
  },
  {
   "cell_type": "code",
   "execution_count": null,
   "id": "8da2f5a9",
   "metadata": {},
   "outputs": [],
   "source": []
  }
 ],
 "metadata": {
  "kernelspec": {
   "display_name": "Python 3 (ipykernel)",
   "language": "python",
   "name": "python3"
  },
  "language_info": {
   "codemirror_mode": {
    "name": "ipython",
    "version": 3
   },
   "file_extension": ".py",
   "mimetype": "text/x-python",
   "name": "python",
   "nbconvert_exporter": "python",
   "pygments_lexer": "ipython3",
   "version": "3.9.7"
  }
 },
 "nbformat": 4,
 "nbformat_minor": 5
}
